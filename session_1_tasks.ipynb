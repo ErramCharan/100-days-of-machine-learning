{
  "nbformat": 4,
  "nbformat_minor": 0,
  "metadata": {
    "colab": {
      "provenance": [],
      "include_colab_link": true
    },
    "kernelspec": {
      "name": "python3",
      "display_name": "Python 3"
    },
    "language_info": {
      "name": "python"
    }
  },
  "cells": [
    {
      "cell_type": "markdown",
      "metadata": {
        "id": "view-in-github",
        "colab_type": "text"
      },
      "source": [
        "<a href=\"https://colab.research.google.com/github/ErramCharan/100-days-of-machine-learning/blob/main/session_1_tasks.ipynb\" target=\"_parent\"><img src=\"https://colab.research.google.com/assets/colab-badge.svg\" alt=\"Open In Colab\"/></a>"
      ]
    },
    {
      "cell_type": "markdown",
      "source": [
        "# Task : Session 1\n",
        "Solve these questions own your own and try to test yourself what you have learned in the session.\n",
        "\n",
        "Happy Learning!"
      ],
      "metadata": {
        "id": "A05OG15VqOPF"
      }
    },
    {
      "cell_type": "markdown",
      "source": [
        "### Q1 :- Print the given strings as per stated format.\n",
        "\n",
        "**Given strings**:\n",
        "```\n",
        "\"Data\" \"Science\" \"Mentorship\" \"Program\"\n",
        "\"By\" \"CampusX\"\n",
        "```\n",
        "**Output**:\n",
        "```\n",
        "Data-Science-Mentorship-Program-started-By-CampusX\n",
        "```\n",
        "\n",
        "Concept- [Seperator and End]"
      ],
      "metadata": {
        "id": "2doIXf8bqe9_"
      }
    },
    {
      "cell_type": "code",
      "source": [
        "print('hello','ammullu',sep='-',end=' ')\n",
        "print('word')"
      ],
      "metadata": {
        "id": "trTv8PTqSojy",
        "outputId": "5e3bee97-54e5-4a8e-be2c-d3f4abb420d5",
        "colab": {
          "base_uri": "https://localhost:8080/"
        }
      },
      "execution_count": 11,
      "outputs": [
        {
          "output_type": "stream",
          "name": "stdout",
          "text": [
            "hello-ammullu word\n"
          ]
        }
      ]
    },
    {
      "cell_type": "code",
      "source": [
        "print(\"Data\",\"Science\",\"Mentorship\",\"Program\",sep='-',end='-started-' )\n",
        "print(\"By\",\"CampusX\",sep='-')"
      ],
      "metadata": {
        "id": "-em6d3KErDtp",
        "outputId": "97c54e17-9e1f-4b95-a88d-8ce46fd2d3c5",
        "colab": {
          "base_uri": "https://localhost:8080/"
        }
      },
      "execution_count": 9,
      "outputs": [
        {
          "output_type": "stream",
          "name": "stdout",
          "text": [
            "Data-Science-Mentorship-Program-started-By-CampusX\n"
          ]
        }
      ]
    },
    {
      "cell_type": "markdown",
      "source": [
        "### Q2:- Write a program that will convert celsius value to fahrenheit."
      ],
      "metadata": {
        "id": "1KUpN7ZTrC3_"
      }
    },
    {
      "cell_type": "code",
      "source": [
        "# Write your code here\n",
        "celsius=int(input('enter the celsius'))\n",
        "farhenhiet = ((9*celsius)/5)+32\n",
        "print(farhenhiet)"
      ],
      "metadata": {
        "id": "yxKYhYQiqWfj",
        "outputId": "63cbd416-271e-43df-9ff5-375ac10451ee",
        "colab": {
          "base_uri": "https://localhost:8080/"
        }
      },
      "execution_count": 13,
      "outputs": [
        {
          "output_type": "stream",
          "name": "stdout",
          "text": [
            "enter the celsius30\n",
            "86.0\n"
          ]
        }
      ]
    },
    {
      "cell_type": "markdown",
      "source": [
        "### Q3:- Take 2 numbers as input from the user.Write a program to swap the numbers without using any special python syntax."
      ],
      "metadata": {
        "id": "RLrOBBJurLB2"
      }
    },
    {
      "cell_type": "code",
      "source": [
        "# Write your code here\n",
        "a=int(input('enter the first number'))\n",
        "b=int(input('enter the second number '))\n",
        "c=a\n",
        "a=b\n",
        "b=c\n",
        "print(a,b)"
      ],
      "metadata": {
        "id": "yPn7if0TrJ4F",
        "outputId": "84346e0f-43c1-4ada-b554-97e275120c22",
        "colab": {
          "base_uri": "https://localhost:8080/"
        }
      },
      "execution_count": 14,
      "outputs": [
        {
          "output_type": "stream",
          "name": "stdout",
          "text": [
            "enter the first number2\n",
            "enter the second number 3\n",
            "3 2\n"
          ]
        }
      ]
    },
    {
      "cell_type": "markdown",
      "source": [
        "### Q4:- Write a program to find the euclidean distance between two coordinates.Take both the coordinates from the user as input."
      ],
      "metadata": {
        "id": "waLCP1bjr7ML"
      }
    },
    {
      "cell_type": "code",
      "source": [
        "# Write your code here\n",
        "p1x=int(input('enter the x value for point 1'))\n",
        "p1y=int(input('enter the y value for point 1'))\n",
        "p2x=int(input('enter the x value for point 2'))\n",
        "p2y=int(input('enter the y value for point 1'))\n",
        "\n",
        "d=((p1x-p2x)**2+(p1y-p2y)**2)**0.5\n",
        "print(d)"
      ],
      "metadata": {
        "id": "Pl1Sv-xnrxnH",
        "outputId": "3d6d0c0a-7a8b-4118-a07b-e10c85ab601a",
        "colab": {
          "base_uri": "https://localhost:8080/"
        }
      },
      "execution_count": 22,
      "outputs": [
        {
          "output_type": "stream",
          "name": "stdout",
          "text": [
            "enter the x value for point 10\n",
            "enter the y value for point 10\n",
            "enter the x value for point 21\n",
            "enter the y value for point 11\n",
            "1.4142135623730951\n"
          ]
        }
      ]
    },
    {
      "cell_type": "markdown",
      "source": [
        "1### Q5:- Write a program to find the simple interest when the value of principle,rate of interest and time period is provided by the user.\n"
      ],
      "metadata": {
        "id": "VLrhg-FRsHjR"
      }
    },
    {
      "cell_type": "code",
      "source": [
        "# Write your code here\n",
        "p=int(input('enter the principle'))\n",
        "r=int(input('enter the interest'))\n",
        "t=int(input('enter the period'))\n",
        "SI= (p*t*r)/100\n",
        "print(SI)"
      ],
      "metadata": {
        "id": "s40DlReZsTmY",
        "outputId": "73231464-1e80-44bd-bcb4-6f8107567330",
        "colab": {
          "base_uri": "https://localhost:8080/"
        }
      },
      "execution_count": 23,
      "outputs": [
        {
          "output_type": "stream",
          "name": "stdout",
          "text": [
            "enter the principle1000\n",
            "enter the interest6\n",
            "enter the period1\n",
            "60.0\n"
          ]
        }
      ]
    },
    {
      "cell_type": "markdown",
      "source": [
        "### Q6:- Write a program that will tell the number of dogs and chicken are there when the user will provide the value of total heads and legs.\n",
        "\n",
        "For example:\n",
        "Input:\n",
        "heads -> 4\n",
        "legs -> 12\n",
        "<br>\n",
        "Output:\n",
        "dogs -> 2\n",
        "chicken -> 2\n",
        "\n",
        "\n",
        "\n"
      ],
      "metadata": {
        "id": "LMy0BTUktYKa"
      }
    },
    {
      "cell_type": "code",
      "source": [
        "# Write your code here\n",
        "heads=int(input('enter the number of heads'))\n",
        "legs=int(input('enter the number of legs'))\n",
        "Dog= (legs-2*heads)/2\n",
        "chicken= heads-Dog\n",
        "print(Dog)\n",
        "print(chicken)"
      ],
      "metadata": {
        "id": "XSBvJoA4tXaG",
        "outputId": "6dff3e40-e6cc-4c7d-9cfb-d308e4554767",
        "colab": {
          "base_uri": "https://localhost:8080/"
        }
      },
      "execution_count": 28,
      "outputs": [
        {
          "output_type": "stream",
          "name": "stdout",
          "text": [
            "enter the number of heads4\n",
            "enter the number of legs12\n",
            "2.0\n",
            "2.0\n"
          ]
        }
      ]
    },
    {
      "cell_type": "markdown",
      "source": [
        "1### Q7:- Write a program to find the sum of squares of first n natural numbers where n will be provided by the user."
      ],
      "metadata": {
        "id": "gJ7C5kZYt4BP"
      }
    },
    {
      "cell_type": "code",
      "source": [
        "# Write your code here\n",
        "n=int(input('enter the n value'))\n",
        "sum=0\n",
        "for i in range(1,n+1):\n",
        "  sum+=i**2\n",
        "print(sum)"
      ],
      "metadata": {
        "id": "_tHsmEHzt2nX",
        "outputId": "c1cefa37-b8aa-4ce0-a8e7-a0f42dc5cfc3",
        "colab": {
          "base_uri": "https://localhost:8080/"
        }
      },
      "execution_count": 37,
      "outputs": [
        {
          "output_type": "stream",
          "name": "stdout",
          "text": [
            "enter the n value5\n",
            "55\n"
          ]
        }
      ]
    },
    {
      "cell_type": "markdown",
      "source": [
        "### Q8:- Given the first 2 terms of an Arithmetic Series.Find the Nth term of the series. Assume all inputs are provided by the user."
      ],
      "metadata": {
        "id": "FHrMM7g-yG1h"
      }
    },
    {
      "cell_type": "code",
      "source": [
        "# Write your code here\n",
        "t1=int(input('enter the 1st term'))\n",
        "t2=int(input('enter the 2nd term'))\n",
        "n=int(input('enter the n term u want to find '))\n",
        "d=t2-t1\n",
        "nth_term= t1+(n-1)*d\n",
        "print(nth_term)"
      ],
      "metadata": {
        "id": "go4_kmZmyVSx",
        "outputId": "642d8799-5c51-4fd2-b962-b1b425d24fa4",
        "colab": {
          "base_uri": "https://localhost:8080/"
        }
      },
      "execution_count": 32,
      "outputs": [
        {
          "output_type": "stream",
          "name": "stdout",
          "text": [
            "enter the 1st term1\n",
            "enter the 2nd term2\n",
            "enter the n term u want to find 3\n",
            "3\n"
          ]
        }
      ]
    },
    {
      "cell_type": "markdown",
      "source": [
        "### Q9:- Given 2 fractions, find the sum of those 2 fractions.Take the numerator and denominator values of the fractions from the user."
      ],
      "metadata": {
        "id": "QgyRX_es1oum"
      }
    },
    {
      "cell_type": "code",
      "source": [
        "# Write your code here\n",
        "f1num=int(input('enter the numerator 1 '))\n",
        "f1den=int(input('enter the den 1 '))\n",
        "f2num=int(input('enter the numerator 2 '))\n",
        "f2den=int(input('enter the den 2 '))\n",
        "\n",
        "summation = ((f1num*f2den)+(f2num*f1den))/(f1den*f2den)\n",
        "print(summation)"
      ],
      "metadata": {
        "id": "X05xqFS1yW16",
        "outputId": "7e52d374-5273-4e20-c44f-fc789724e744",
        "colab": {
          "base_uri": "https://localhost:8080/"
        }
      },
      "execution_count": 35,
      "outputs": [
        {
          "output_type": "stream",
          "name": "stdout",
          "text": [
            "enter the numerator 1 4\n",
            "enter the den 1 2\n",
            "enter the numerator 2 4\n",
            "enter the den 2 2\n",
            "4.0\n"
          ]
        }
      ]
    },
    {
      "cell_type": "markdown",
      "source": [
        "### Q10:- Given the height, width and breadth of a milk tank, you have to find out how many glasses of milk can be obtained? Assume all the inputs are provided by the user.\n",
        "\n",
        "\n",
        "\n",
        "Input:<br>\n",
        "Dimensions of the milk tank<br>\n",
        "H = 20cm, L = 20cm, B = 20cm\n",
        "<br><br>\n",
        "Dimensions of the glass<br>\n",
        "h = 3cm, r = 1cm"
      ],
      "metadata": {
        "id": "eaql38ln13u7"
      }
    },
    {
      "cell_type": "code",
      "source": [
        "# Write your code here\n",
        "H=int(input('enter the tank height'))\n",
        "L=int(input('entr the tank length'))\n",
        "B=int(input('enter the base '))\n",
        "\n",
        "h=int(input('enter the heigh of glass'))\n",
        "r=int(input('enter the radius  of glass'))\n",
        "v_glass= 3.14*r*r*h\n",
        "v_tank=H*L*B\n",
        "number_of_glasses= v_tank/v_glass\n",
        "\n",
        "print(number_of_glasses)\n",
        "\n"
      ],
      "metadata": {
        "id": "FePZqno74eWv",
        "outputId": "fd80f63d-19c4-49be-b415-0a871ccbdc29",
        "colab": {
          "base_uri": "https://localhost:8080/"
        }
      },
      "execution_count": 36,
      "outputs": [
        {
          "output_type": "stream",
          "name": "stdout",
          "text": [
            "enter the tank height20\n",
            "entr the tank length20\n",
            "enter the base 20\n",
            "enter the heigh of glass3\n",
            "enter the radius  of glass1\n",
            "849.2569002123142\n"
          ]
        }
      ]
    },
    {
      "cell_type": "code",
      "source": [],
      "metadata": {
        "id": "nVseYfv4dwYA"
      },
      "execution_count": null,
      "outputs": []
    }
  ]
}